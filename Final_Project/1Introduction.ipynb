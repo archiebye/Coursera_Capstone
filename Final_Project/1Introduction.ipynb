{
 "cells": [
  {
   "cell_type": "markdown",
   "metadata": {},
   "source": [
    "## Introduction/Business Problem"
   ]
  },
  {
   "cell_type": "markdown",
   "metadata": {},
   "source": [
    "A restaurant chain, Lune et Jardin, based in Paris has had a very successful few years and plan on making an international expansion. They want to open a location in London because they know that it is a multicultural city with a French population of around 100,000. However, they are not sure exactly where in the city they should focus their efforts. It is the aim of this project to give Lune et Jardin a recommendation on where in London they should open their new restaurant."
   ]
  }
 ],
 "metadata": {
  "kernelspec": {
   "display_name": "Python 3",
   "language": "python",
   "name": "python3"
  },
  "language_info": {
   "codemirror_mode": {
    "name": "ipython",
    "version": 3
   },
   "file_extension": ".py",
   "mimetype": "text/x-python",
   "name": "python",
   "nbconvert_exporter": "python",
   "pygments_lexer": "ipython3",
   "version": "3.8.5"
  }
 },
 "nbformat": 4,
 "nbformat_minor": 4
}
