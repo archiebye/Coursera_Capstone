{
 "cells": [
  {
   "cell_type": "markdown",
   "metadata": {},
   "source": [
    "## Final Report:\n",
    "\n"
   ]
  },
  {
   "cell_type": "markdown",
   "metadata": {},
   "source": [
    "# Finding the best location in London to open an established French restaurant\n",
    "---"
   ]
  },
  {
   "cell_type": "markdown",
   "metadata": {},
   "source": [
    "### Table of Contents\n",
    "- [Introduction](#Introduction)\n",
    "- [Data](#Data-Sources)\n",
    "- [Methodology](#Methodology)\n",
    "- [Results](#Results)\n",
    "- [Discussion](#Discussion)\n",
    "- [Conclusion](#Conclusion)"
   ]
  },
  {
   "cell_type": "markdown",
   "metadata": {},
   "source": [
    "## Introduction"
   ]
  },
  {
   "cell_type": "markdown",
   "metadata": {},
   "source": [
    "A restaurant chain, Lune et Jardin, based in Paris has had a very successful few years, with restaurants flourishing in the 7th and 8th Arrondissemnts of Paris, and plan on making an international expansion. They want to open a location in London because they know that it is a multicultural city with a large French population of around 100,000. However, they are not familiar with the city and so don't know exactly where in the city they should focus their efforts. It is the aim of this project to give Lune et Jardin a recommendation on where in London they should open their new restaurant."
   ]
  },
  {
   "cell_type": "markdown",
   "metadata": {},
   "source": [
    "## Data Sources"
   ]
  },
  {
   "cell_type": "markdown",
   "metadata": {},
   "source": [
    "The primary data source will be Foursquare. The data will give us information about commercial establishments around a given set of coordinates. We will use the data to characterise the locations of the restaurants in Paris. Then we will use Foursquare data for neighbourhoods in London to find the one that is most like the Paris locations and so, in theory, the most suitable location for the new restaurant.\n",
    "\n",
    "Data about the names and locations of neighbourhoods in London and Paris has been scraped from wikipedia."
   ]
  },
  {
   "cell_type": "markdown",
   "metadata": {},
   "source": [
    "---"
   ]
  },
  {
   "cell_type": "markdown",
   "metadata": {},
   "source": [
    "#### An example of the data collected from Foursquare. This is for the Abbey Wood neighbourhood of London.\n",
    "\n",
    "![](assets/foursquare_example.JPG)"
   ]
  },
  {
   "cell_type": "markdown",
   "metadata": {},
   "source": [
    "---"
   ]
  },
  {
   "cell_type": "markdown",
   "metadata": {},
   "source": [
    "#### An example of the data collected from Wikipedia. This is the data for London neighbourhoods, the data collected for Paris is similar.\n",
    "\n",
    "![](assets/london_wiki_data_example.JPG)"
   ]
  },
  {
   "cell_type": "markdown",
   "metadata": {},
   "source": [
    "## Methodology"
   ]
  },
  {
   "cell_type": "markdown",
   "metadata": {},
   "source": [
    "1. First step is scraping and cleaning the data\n",
    "1. We then visualise the neighbourhood data on a map using Folium\n",
    "1. Now that we have the neighbourhood data and we can see that it's accurate, we can now look into the Fourquare data. So we iterate through the neighbourhoods for both Paris and London and get the data about commercial establishments in each of the neighbourhoods.\n",
    "1. Using this Foursquare data we can now cluster the neighbourhoods of Paris to see if the current locations of the Lune et Jardin restaurants fall into the same cluster.\n",
    "1. The locations do infact fall into the same cluster which tells us that its might be a good idea to use this characterisation of the neighbourhoods to recommend a new location.\n",
    "1. Next we make a recommendation using Cosine Similarity. We do this by taking the average values for the neighbourhoods in the cluster containing the current locations in Paris and then finding the neighbourhoods most similar to that in London."
   ]
  },
  {
   "cell_type": "markdown",
   "metadata": {},
   "source": [
    "## Results"
   ]
  },
  {
   "cell_type": "markdown",
   "metadata": {},
   "source": [
    "Using the Cosine Similarity measure as described above, we discoved that the most appropriate location in London for a new Lune et Jardin restaurant is Mayfair."
   ]
  },
  {
   "cell_type": "markdown",
   "metadata": {},
   "source": [
    "## Discussion"
   ]
  },
  {
   "cell_type": "markdown",
   "metadata": {},
   "source": [
    "There are over 500 neighbourhoods in the London dataset. So, if a mistake had been made along the way it would have been very easy to make a recommendation that makes no sense at all. Mayfair is a very affluent area with a lot of tourism. The same can be said about the current locations of the Lune et Jardin restaurants in Paris. It's great to see that our the result of the analysis makes intuitive sense. The result suggests that the methods used in this analysis are robust."
   ]
  },
  {
   "cell_type": "markdown",
   "metadata": {},
   "source": [
    "## Conclusion"
   ]
  },
  {
   "cell_type": "markdown",
   "metadata": {},
   "source": [
    "While it is easy to say that Mayfair is a good neighbourhood for a new location for Lune et Jardin. The reality of opening a restaurant is much more complex. It would be great if our result could more accurately reflect this complexity.\n",
    "\n",
    "To do this, it would be appropriate to carry out further research and collect more data that can be used to better characterise the neighbourhoods. Data containing information about things such as the price of property, the number of residential properties, the rate at which commercial properties come on the market, the commercial tax rates, and much more would be very useful in creating a higher resolution picture of each neighbourhood to work with. \n",
    "\n",
    "Having said all this, Lune et Jardin should be happy with the results of this analysis and could easily use these reults to move forward with their international expansion. We can conclude that this project has been a success."
   ]
  },
  {
   "cell_type": "markdown",
   "metadata": {},
   "source": []
  }
 ],
 "metadata": {
  "kernelspec": {
   "display_name": "Python 3",
   "language": "python",
   "name": "python3"
  },
  "language_info": {
   "codemirror_mode": {
    "name": "ipython",
    "version": 3
   },
   "file_extension": ".py",
   "mimetype": "text/x-python",
   "name": "python",
   "nbconvert_exporter": "python",
   "pygments_lexer": "ipython3",
   "version": "3.8.5"
  }
 },
 "nbformat": 4,
 "nbformat_minor": 4
}
