{
 "cells": [
  {
   "cell_type": "markdown",
   "metadata": {},
   "source": [
    "## Final Report:\n",
    "\n"
   ]
  },
  {
   "cell_type": "markdown",
   "metadata": {},
   "source": [
    "# Finding the best location in London to open an established French restaurant\n",
    "---"
   ]
  },
  {
   "cell_type": "markdown",
   "metadata": {},
   "source": [
    "### Table of Contents\n",
    "- [Introduction](#Introduction)\n",
    "- [Data](#Data-Sources)\n",
    "- [Methodology](#Methodology)\n",
    "- [Results](#Results)\n",
    "- [Discussion](#Discussion)\n",
    "- [Conclusion](#Conclusion)"
   ]
  },
  {
   "cell_type": "markdown",
   "metadata": {},
   "source": [
    "## Introduction"
   ]
  },
  {
   "cell_type": "markdown",
   "metadata": {},
   "source": [
    "A restaurant chain, Lune et Jardin, based in Paris has had a very successful few years, with restaurants flourishing in the 7th and 8th Arrondissemnts of Paris, and plan on making an international expansion. They want to open a location in London because they know that it is a multicultural city with a large French population of around 100,000. However, they are not familiar with the city and so don't know exactly where in the city they should focus their efforts. It is the aim of this project to give Lune et Jardin a recommendation on where in London they should open their new restaurant."
   ]
  },
  {
   "cell_type": "markdown",
   "metadata": {},
   "source": [
    "## Data Sources"
   ]
  },
  {
   "cell_type": "markdown",
   "metadata": {},
   "source": [
    "The primary data source will be Foursquare. The data will give us information about commercial establishments around a given set of coordinates. We will use the data to characterise the locations of the restaurants in Paris. Then we will use Foursquare data for neighbourhoods in London to find the one that is most like the Paris locations and so, in theory, the most suitable location for the new restaurant.\n",
    "\n",
    "Data about the names and locations of neighbourhoods in London and Paris has been scraped from wikipedia."
   ]
  },
  {
   "cell_type": "markdown",
   "metadata": {},
   "source": [
    "---"
   ]
  },
  {
   "cell_type": "markdown",
   "metadata": {},
   "source": [
    "#### An example of the data collected from Foursquare. This is for the Abbey Wood neighbourhood of London.\n",
    "\n",
    "![](assets/foursquare_example.JPG)"
   ]
  },
  {
   "cell_type": "markdown",
   "metadata": {},
   "source": [
    "---"
   ]
  },
  {
   "cell_type": "markdown",
   "metadata": {},
   "source": [
    "#### An example of the data collected from Wikipedia. This is the data for London neighbourhoods, the data collected for Paris is similar.\n",
    "\n",
    "![](assets/london_wiki_data_example.JPG)"
   ]
  },
  {
   "cell_type": "markdown",
   "metadata": {},
   "source": [
    "## Methodology"
   ]
  },
  {
   "cell_type": "markdown",
   "metadata": {},
   "source": []
  },
  {
   "cell_type": "markdown",
   "metadata": {},
   "source": [
    "## Results"
   ]
  },
  {
   "cell_type": "markdown",
   "metadata": {},
   "source": []
  },
  {
   "cell_type": "markdown",
   "metadata": {},
   "source": [
    "## Discussion"
   ]
  },
  {
   "cell_type": "markdown",
   "metadata": {},
   "source": []
  },
  {
   "cell_type": "markdown",
   "metadata": {},
   "source": [
    "## Conclusion"
   ]
  },
  {
   "cell_type": "markdown",
   "metadata": {},
   "source": []
  }
 ],
 "metadata": {
  "kernelspec": {
   "display_name": "Python 3",
   "language": "python",
   "name": "python3"
  },
  "language_info": {
   "codemirror_mode": {
    "name": "ipython",
    "version": 3
   },
   "file_extension": ".py",
   "mimetype": "text/x-python",
   "name": "python",
   "nbconvert_exporter": "python",
   "pygments_lexer": "ipython3",
   "version": "3.8.5"
  }
 },
 "nbformat": 4,
 "nbformat_minor": 4
}
