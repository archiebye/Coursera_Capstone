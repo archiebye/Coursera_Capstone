{
 "cells": [
  {
   "cell_type": "markdown",
   "metadata": {},
   "source": [
    "## Data"
   ]
  },
  {
   "cell_type": "markdown",
   "metadata": {},
   "source": [
    "The primary data source will be Foursquare. The data will give us information about commercial establishments around a given set of coordinates. We will use the data to characterise the locations of the restaurants in Paris. Then we will use Foursquare data for neighbourhoods in London to find the one that is most like the Paris locations and so, in theory, the most suitable location for the new restaurant.\n",
    "\n",
    "Data about the names and locations of neighbourhoods in London and Paris has been scraped from wikipedia."
   ]
  }
 ],
 "metadata": {
  "kernelspec": {
   "display_name": "Python 3",
   "language": "python",
   "name": "python3"
  },
  "language_info": {
   "codemirror_mode": {
    "name": "ipython",
    "version": 3
   },
   "file_extension": ".py",
   "mimetype": "text/x-python",
   "name": "python",
   "nbconvert_exporter": "python",
   "pygments_lexer": "ipython3",
   "version": "3.8.5"
  }
 },
 "nbformat": 4,
 "nbformat_minor": 4
}
